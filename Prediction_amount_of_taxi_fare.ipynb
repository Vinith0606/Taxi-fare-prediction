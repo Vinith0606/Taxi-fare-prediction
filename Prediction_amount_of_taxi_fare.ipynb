{
  "cells": [
    {
      "cell_type": "markdown",
      "id": "9778e1ac",
      "metadata": {
        "id": "9778e1ac"
      },
      "source": [
        "<div style=\"text-align: center; background-color: black; padding: 20px;\">\n",
        "    <h1 style=\"color:Yellow; font-family: 'Arial', sans-serif;\">Taxi Fare Data</h1>\n",
        "</div>\n",
        "\n"
      ]
    },
    {
      "cell_type": "code",
      "execution_count": 69,
      "id": "ab4e2fce",
      "metadata": {
        "id": "ab4e2fce"
      },
      "outputs": [],
      "source": [
        "import pandas as pd\n",
        "import numpy as np\n",
        "import matplotlib.pyplot as plt\n",
        "import seaborn as sns\n",
        "import warnings\n",
        "warnings.filterwarnings(\"ignore\")\n",
        "import matplotlib\n",
        "pd.set_option(\"display.max_columns\", None)\n",
        "pd.set_option(\"display.max_rows\", None)\n",
        "from sklearn.metrics import accuracy_score\n",
        "from sklearn.model_selection import train_test_split\n",
        "from sklearn.linear_model import LogisticRegression"
      ]
    },
    {
      "cell_type": "code",
      "execution_count": 3,
      "id": "6b2b82a6",
      "metadata": {
        "id": "6b2b82a6"
      },
      "outputs": [],
      "source": [
        "df = pd.read_csv(\"TaxiFare.csv\")"
      ]
    },
    {
      "cell_type": "code",
      "execution_count": null,
      "id": "a826ad64",
      "metadata": {
        "id": "a826ad64"
      },
      "outputs": [],
      "source": [
        "df.head()"
      ]
    },
    {
      "cell_type": "code",
      "execution_count": 5,
      "id": "a38f4012",
      "metadata": {
        "id": "a38f4012"
      },
      "outputs": [],
      "source": [
        "df.drop(\"unique_id\", axis =1, inplace= True)"
      ]
    },
    {
      "cell_type": "code",
      "execution_count": null,
      "id": "40240dfc",
      "metadata": {
        "id": "40240dfc"
      },
      "outputs": [],
      "source": [
        "df.describe()\n",
        "# from the tabel it can be concluded that there are extreame outliers in latitude and longitude coulumns.\n",
        "# The longitude of pickup is varying from -72 to -75. Latitude pickup is mmostly around 40 t 41."
      ]
    },
    {
      "cell_type": "code",
      "execution_count": null,
      "id": "cb63c533",
      "metadata": {
        "id": "cb63c533"
      },
      "outputs": [],
      "source": [
        "df.isnull().sum() # This dataset contains zero null values"
      ]
    },
    {
      "cell_type": "code",
      "execution_count": 8,
      "id": "f161f735",
      "metadata": {
        "id": "f161f735"
      },
      "outputs": [],
      "source": [
        "df = df[df['amount'] >= 3]                   # Minimum fare charge is $3.00 .\n",
        "df = df[df['no_of_passenger'] >= 1]          # Taxi charges only when there's at least one passenger.\n",
        "df = df[(df['longitude_of_pickup'] <= -72) & (df['longitude_of_pickup'] >= -75)]\n",
        "df = df[(df['latitude_of_pickup'] <= 42) & (df['latitude_of_pickup'] >= 40)]\n",
        "df = df[(df['longitude_of_dropoff'] <= -72) & (df['longitude_of_dropoff'] >= -75)]\n",
        "df = df[(df['latitude_of_dropoff'] <= 42) & (df['latitude_of_dropoff'] >= 40)]"
      ]
    },
    {
      "cell_type": "code",
      "execution_count": null,
      "id": "ba3db8ea",
      "metadata": {
        "id": "ba3db8ea"
      },
      "outputs": [],
      "source": [
        "df.shape"
      ]
    },
    {
      "cell_type": "code",
      "execution_count": null,
      "id": "b62cf7ca",
      "metadata": {
        "id": "b62cf7ca"
      },
      "outputs": [],
      "source": [
        "df.describe()"
      ]
    },
    {
      "cell_type": "code",
      "execution_count": null,
      "id": "f575b58f",
      "metadata": {
        "id": "f575b58f"
      },
      "outputs": [],
      "source": [
        "sns.scatterplot( df.amount, color = 'b')\n",
        "sns.set_style(\"dark\")\n",
        "plt.title(\"Amount Distribution\", fontsize = 18, color = 'b', weight = 'bold')\n",
        "plt.grid()\n",
        "plt.ylabel(\"Amount\")\n",
        "plt.xlabel(\"Count\")"
      ]
    },
    {
      "cell_type": "code",
      "execution_count": 12,
      "id": "47e19134",
      "metadata": {
        "id": "47e19134"
      },
      "outputs": [],
      "source": [
        "# It can be interpreted that the amount is mostly upto $60 and the rest are outliers."
      ]
    },
    {
      "cell_type": "code",
      "execution_count": 13,
      "id": "a621effe",
      "metadata": {
        "id": "a621effe"
      },
      "outputs": [],
      "source": [
        "df = df[df.amount < 50]"
      ]
    },
    {
      "cell_type": "code",
      "execution_count": null,
      "id": "10bd327c",
      "metadata": {
        "id": "10bd327c"
      },
      "outputs": [],
      "source": [
        "df.shape"
      ]
    },
    {
      "cell_type": "code",
      "execution_count": null,
      "id": "46c9d316",
      "metadata": {
        "id": "46c9d316"
      },
      "outputs": [],
      "source": [
        "df.amount.describe()"
      ]
    },
    {
      "cell_type": "code",
      "source": [
        "df.dtypes"
      ],
      "metadata": {
        "id": "gA9Bc5fFMYoA"
      },
      "id": "gA9Bc5fFMYoA",
      "execution_count": null,
      "outputs": []
    },
    {
      "cell_type": "code",
      "execution_count": 16,
      "id": "c28b00df",
      "metadata": {
        "id": "c28b00df"
      },
      "outputs": [],
      "source": [
        "df['date_time_of_pickup'] = pd.to_datetime(df['date_time_of_pickup'])\n",
        "df[\"hour\"] = df.date_time_of_pickup.dt.hour\n",
        "df[\"month\"] = df.date_time_of_pickup.dt.month\n",
        "df[\"weekday\"] = df.date_time_of_pickup.dt.weekday"
      ]
    },
    {
      "cell_type": "code",
      "execution_count": 17,
      "id": "3336c8a0",
      "metadata": {
        "id": "3336c8a0"
      },
      "outputs": [],
      "source": [
        "df.drop(\"date_time_of_pickup\", axis =1, inplace =True)"
      ]
    },
    {
      "cell_type": "code",
      "execution_count": null,
      "id": "fe5613f0",
      "metadata": {
        "scrolled": true,
        "id": "fe5613f0"
      },
      "outputs": [],
      "source": [
        "df.describe()"
      ]
    },
    {
      "cell_type": "code",
      "execution_count": 19,
      "id": "e4009e7c",
      "metadata": {
        "id": "e4009e7c"
      },
      "outputs": [],
      "source": [
        "# to calclate distance we use  Haversine formula.\n",
        "# creating a function that will take co-ordinated as data and will return the distance travelled."
      ]
    },
    {
      "cell_type": "code",
      "execution_count": 20,
      "id": "4d039b0a",
      "metadata": {
        "id": "4d039b0a"
      },
      "outputs": [],
      "source": [
        "def haversine_distance(lat1, lon1, lat2, lon2):\n",
        "    R = 6371  # Earth radius in kilometers\n",
        "    lat1, lon1, lat2, lon2 = map(np.radians, [lat1, lon1, lat2, lon2])\n",
        "    dlat = lat2 - lat1\n",
        "    dlon = lon2 - lon1\n",
        "    a = np.sin(dlat / 2.0) ** 2 + np.cos(lat1) * np.cos(lat2) * np.sin(dlon / 2.0) ** 2\n",
        "    c = 2 * np.arctan2(np.sqrt(a), np.sqrt(1 - a))\n",
        "    distance = R * c\n",
        "    return distance"
      ]
    },
    {
      "cell_type": "code",
      "execution_count": null,
      "id": "6e6c3414",
      "metadata": {
        "scrolled": true,
        "id": "6e6c3414"
      },
      "outputs": [],
      "source": [
        "df[\"distance_km\"] = haversine_distance(df.latitude_of_pickup ,df.longitude_of_pickup, df.latitude_of_dropoff, df.longitude_of_dropoff)\n",
        "df.distance_km.describe()\n",
        "# we have minimum distance 0 that means the person must have not took taxi or traveeled and came back to same place."
      ]
    },
    {
      "cell_type": "code",
      "execution_count": null,
      "id": "b37c9b69",
      "metadata": {
        "id": "b37c9b69"
      },
      "outputs": [],
      "source": [
        "df[df.distance_km==0].shape # there are 471 rows that have same pickup and dropoff co ordinates.\n",
        "# Because of which distance travelled is zero and it makes no sense."
      ]
    },
    {
      "cell_type": "code",
      "execution_count": null,
      "id": "51ad9fef",
      "metadata": {
        "id": "51ad9fef"
      },
      "outputs": [],
      "source": [
        "df= df[df.distance_km > 0.1]\n",
        "df.distance_km.describe()"
      ]
    },
    {
      "cell_type": "markdown",
      "id": "aff3d66c",
      "metadata": {
        "id": "aff3d66c"
      },
      "source": [
        "## Model Building"
      ]
    },
    {
      "cell_type": "code",
      "execution_count": 24,
      "id": "7e8b9df6",
      "metadata": {
        "id": "7e8b9df6"
      },
      "outputs": [],
      "source": [
        "from sklearn.model_selection import train_test_split\n",
        "from sklearn.linear_model import LinearRegression"
      ]
    },
    {
      "cell_type": "code",
      "execution_count": 25,
      "id": "e77415b4",
      "metadata": {
        "id": "e77415b4"
      },
      "outputs": [],
      "source": [
        "lr = LinearRegression()"
      ]
    },
    {
      "cell_type": "code",
      "execution_count": null,
      "id": "dcd6aa8d",
      "metadata": {
        "id": "dcd6aa8d"
      },
      "outputs": [],
      "source": [
        "df.describe()"
      ]
    },
    {
      "cell_type": "code",
      "execution_count": null,
      "id": "1276cba2",
      "metadata": {
        "id": "1276cba2"
      },
      "outputs": [],
      "source": [
        "plt.figure(figsize=(12, 10))\n",
        "\n",
        "plt.subplot(2, 3, 1)\n",
        "sns.histplot(df['amount'])\n",
        "plt.title(\"Amount\")\n",
        "\n",
        "plt.subplot(2, 3, 2)\n",
        "sns.histplot(df['longitude_of_pickup'])\n",
        "plt.title(\"Pickup Longitude\")\n",
        "\n",
        "plt.subplot(2, 3, 3)\n",
        "sns.histplot(df['latitude_of_pickup'])\n",
        "plt.title(\"Pickup Latitude\")\n",
        "\n",
        "plt.subplot(2, 3, 4)\n",
        "sns.histplot(df['longitude_of_dropoff'])\n",
        "plt.title(\"Dropoff Longitude\")\n",
        "\n",
        "plt.subplot(2, 3, 5)\n",
        "sns.histplot(df['latitude_of_dropoff'])\n",
        "plt.title(\"Dropoff Latitude\")\n",
        "\n",
        "plt.subplot(2, 3, 6)\n",
        "sns.histplot(df['distance_km'])\n",
        "plt.title(\"Distance\")\n",
        "\n",
        "plt.tight_layout()"
      ]
    },
    {
      "cell_type": "code",
      "execution_count": null,
      "id": "781ed4d5",
      "metadata": {
        "id": "781ed4d5"
      },
      "outputs": [],
      "source": [
        "plt.figure(figsize = (8, 8))\n",
        "\n",
        "\n",
        "plt.subplot(1,2,1)\n",
        "sns.scatterplot(x = df.amount, y = df.distance_km) # there are definately some outliers in distance that needed to fixed.\n",
        "plt.title(\"Distance vs Amount with outliers\")\n",
        "plt.grid()\n",
        "\n",
        "df = df[df[\"distance_km\"]<= 25]\n",
        "plt.subplot(1,2,2)\n",
        "sns.scatterplot(x = df.amount, y =df.distance_km)\n",
        "plt.title(\"Distance vs Amount Filtered\")\n",
        "\n",
        "plt.grid()"
      ]
    },
    {
      "cell_type": "code",
      "execution_count": 29,
      "id": "047b2fa2",
      "metadata": {
        "id": "047b2fa2"
      },
      "outputs": [],
      "source": [
        "from sklearn.preprocessing import MinMaxScaler\n",
        "scaler = MinMaxScaler()"
      ]
    },
    {
      "cell_type": "code",
      "execution_count": 30,
      "id": "74be9ccc",
      "metadata": {
        "id": "74be9ccc"
      },
      "outputs": [],
      "source": [
        "x = df.drop(\"amount\", axis =1)\n",
        "y = df.amount"
      ]
    },
    {
      "cell_type": "code",
      "execution_count": 31,
      "id": "9eb2e855",
      "metadata": {
        "id": "9eb2e855"
      },
      "outputs": [],
      "source": [
        "x_scaled = scaler.fit_transform(x)"
      ]
    },
    {
      "cell_type": "code",
      "execution_count": 32,
      "id": "b65b61db",
      "metadata": {
        "id": "b65b61db"
      },
      "outputs": [],
      "source": [
        "x_train, x_test, y_train, y_test = train_test_split(x_scaled, y , test_size= 0.3, random_state=42)"
      ]
    },
    {
      "cell_type": "code",
      "execution_count": null,
      "id": "fe48b1c6",
      "metadata": {
        "id": "fe48b1c6"
      },
      "outputs": [],
      "source": [
        "lr.fit(x_train, y_train)\n",
        "lr.score(x_train, y_train)"
      ]
    },
    {
      "cell_type": "code",
      "execution_count": null,
      "id": "2fd5d779",
      "metadata": {
        "id": "2fd5d779"
      },
      "outputs": [],
      "source": [
        "lr.score(x_test, y_test)"
      ]
    },
    {
      "cell_type": "markdown",
      "id": "3267978e",
      "metadata": {
        "id": "3267978e"
      },
      "source": [
        "# Trial and error"
      ]
    },
    {
      "cell_type": "markdown",
      "id": "be491408",
      "metadata": {
        "id": "be491408"
      },
      "source": [
        "## KNN"
      ]
    },
    {
      "cell_type": "code",
      "execution_count": 52,
      "id": "4dae3375",
      "metadata": {
        "id": "4dae3375"
      },
      "outputs": [],
      "source": [
        "from sklearn.neighbors import KNeighborsRegressor"
      ]
    },
    {
      "cell_type": "code",
      "execution_count": 36,
      "id": "a95c998b",
      "metadata": {
        "id": "a95c998b"
      },
      "outputs": [],
      "source": [
        "knn_model = KNeighborsRegressor(n_neighbors=5)"
      ]
    },
    {
      "cell_type": "code",
      "execution_count": null,
      "id": "a3149b69",
      "metadata": {
        "id": "a3149b69"
      },
      "outputs": [],
      "source": [
        "knn_model.fit(x_train, y_train)"
      ]
    },
    {
      "cell_type": "code",
      "execution_count": null,
      "id": "573418bd",
      "metadata": {
        "id": "573418bd"
      },
      "outputs": [],
      "source": [
        "knn_model.score(x_train, y_train)"
      ]
    },
    {
      "cell_type": "code",
      "execution_count": null,
      "id": "c5131a4a",
      "metadata": {
        "id": "c5131a4a"
      },
      "outputs": [],
      "source": [
        "knn_model.score(x_test, y_test)"
      ]
    },
    {
      "cell_type": "markdown",
      "id": "1fc7b43c",
      "metadata": {
        "id": "1fc7b43c"
      },
      "source": [
        "## Decision Tree"
      ]
    },
    {
      "cell_type": "code",
      "execution_count": 40,
      "id": "654053a6",
      "metadata": {
        "id": "654053a6"
      },
      "outputs": [],
      "source": [
        "from sklearn.tree import DecisionTreeRegressor"
      ]
    },
    {
      "cell_type": "code",
      "execution_count": 41,
      "id": "31c732c0",
      "metadata": {
        "id": "31c732c0"
      },
      "outputs": [],
      "source": [
        "tree_model = DecisionTreeRegressor(max_depth = 7)"
      ]
    },
    {
      "cell_type": "code",
      "execution_count": null,
      "id": "60c510aa",
      "metadata": {
        "id": "60c510aa"
      },
      "outputs": [],
      "source": [
        "tree_model.fit(x_train, y_train)"
      ]
    },
    {
      "cell_type": "code",
      "execution_count": null,
      "id": "cb6aff70",
      "metadata": {
        "id": "cb6aff70"
      },
      "outputs": [],
      "source": [
        "tree_model.score(x_train, y_train)"
      ]
    },
    {
      "cell_type": "code",
      "execution_count": null,
      "id": "3089184c",
      "metadata": {
        "id": "3089184c"
      },
      "outputs": [],
      "source": [
        "tree_model.score(x_test, y_test)"
      ]
    },
    {
      "cell_type": "markdown",
      "id": "eadc0171",
      "metadata": {
        "id": "eadc0171"
      },
      "source": [
        "## Random Forest"
      ]
    },
    {
      "cell_type": "code",
      "execution_count": 45,
      "id": "5cd022be",
      "metadata": {
        "id": "5cd022be"
      },
      "outputs": [],
      "source": [
        "from sklearn.svm import SVR"
      ]
    },
    {
      "cell_type": "code",
      "execution_count": 46,
      "id": "34dfa0e1",
      "metadata": {
        "id": "34dfa0e1"
      },
      "outputs": [],
      "source": [
        "svr = SVR(kernel = 'linear',)"
      ]
    },
    {
      "cell_type": "code",
      "execution_count": null,
      "id": "fa35598d",
      "metadata": {
        "id": "fa35598d"
      },
      "outputs": [],
      "source": [
        "svr.fit(x_train, y_train)"
      ]
    },
    {
      "cell_type": "code",
      "execution_count": null,
      "id": "839147ae",
      "metadata": {
        "id": "839147ae"
      },
      "outputs": [],
      "source": [
        "svr.score(x_train, y_train)"
      ]
    },
    {
      "cell_type": "code",
      "execution_count": 49,
      "id": "ae6b496d",
      "metadata": {
        "colab": {
          "base_uri": "https://localhost:8080/"
        },
        "id": "ae6b496d",
        "outputId": "7d615b72-8373-4476-b044-8ca42a4a5144"
      },
      "outputs": [
        {
          "output_type": "execute_result",
          "data": {
            "text/plain": [
              "0.797394181949618"
            ]
          },
          "metadata": {},
          "execution_count": 49
        }
      ],
      "source": [
        "svr.score(x_test, y_test)"
      ]
    },
    {
      "cell_type": "code",
      "execution_count": 50,
      "id": "d3d1748d",
      "metadata": {
        "id": "d3d1748d"
      },
      "outputs": [],
      "source": [
        "# can try after removing latitude and longitude"
      ]
    },
    {
      "cell_type": "markdown",
      "id": "6b9e9af2",
      "metadata": {
        "id": "6b9e9af2"
      },
      "source": [
        "# After removing co ordinates column"
      ]
    },
    {
      "cell_type": "code",
      "execution_count": 73,
      "id": "6c29d8bc",
      "metadata": {
        "id": "6c29d8bc"
      },
      "outputs": [],
      "source": [
        "x = df.drop(['amount','longitude_of_pickup','latitude_of_pickup','longitude_of_dropoff'], axis=1)\n",
        "y = df.amount"
      ]
    },
    {
      "cell_type": "code",
      "execution_count": 54,
      "id": "4d440d54",
      "metadata": {
        "id": "4d440d54"
      },
      "outputs": [],
      "source": [
        "x_scaled = scaler.fit_transform(x)"
      ]
    },
    {
      "cell_type": "code",
      "execution_count": 53,
      "id": "9560b8e8",
      "metadata": {
        "id": "9560b8e8"
      },
      "outputs": [],
      "source": [
        "x_train, x_test, y_train, y_test = train_test_split(x_scaled, y , test_size= 0.3, random_state=42)"
      ]
    },
    {
      "cell_type": "code",
      "execution_count": null,
      "id": "7ad8aa41",
      "metadata": {
        "id": "7ad8aa41"
      },
      "outputs": [],
      "source": [
        "lr.fit(x_train, y_train)\n",
        "lr.score(x_train, y_train)"
      ]
    },
    {
      "cell_type": "code",
      "execution_count": null,
      "id": "7fd5851d",
      "metadata": {
        "id": "7fd5851d"
      },
      "outputs": [],
      "source": [
        "lr.score(x_test, y_test)"
      ]
    }
  ],
  "metadata": {
    "kernelspec": {
      "display_name": "Python 3 (ipykernel)",
      "language": "python",
      "name": "python3"
    },
    "language_info": {
      "codemirror_mode": {
        "name": "ipython",
        "version": 3
      },
      "file_extension": ".py",
      "mimetype": "text/x-python",
      "name": "python",
      "nbconvert_exporter": "python",
      "pygments_lexer": "ipython3",
      "version": "3.10.9"
    },
    "colab": {
      "provenance": []
    }
  },
  "nbformat": 4,
  "nbformat_minor": 5
}